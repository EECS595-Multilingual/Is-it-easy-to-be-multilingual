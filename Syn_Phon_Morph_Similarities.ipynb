{
 "cells": [
  {
   "cell_type": "code",
   "execution_count": 1,
   "metadata": {},
   "outputs": [],
   "source": [
    "import lang2vec.lang2vec as l2v\n",
    "import pandas as pd"
   ]
  },
  {
   "cell_type": "code",
   "execution_count": 2,
   "metadata": {},
   "outputs": [],
   "source": [
    "############################################\n",
    "##### FOR SYNTACTICAL AND PHONOLOGICAL #####\n",
    "############################################\n",
    "\n",
    "def get_similarity(kind, langs_list):\n",
    "    sim_dict = {}\n",
    "    for L1 in langs_list:\n",
    "        feat_1 = l2v.get_features(L1, kind)[L1]\n",
    "        for L2 in langs_list[langs_list.index(L1) : ]:\n",
    "            feat_2 = l2v.get_features(L2, kind)[L2]\n",
    "            assert len(feat_1) == len(feat_2)\n",
    "            U = 0\n",
    "            I = 0\n",
    "            for i in range(len(feat_1)):\n",
    "                if ((feat_1[i] != '--') or (feat_2[i] != '--')):\n",
    "                    if (feat_1[i] == feat_2[i] == 1):\n",
    "                        I = I+1\n",
    "                        U = U+1\n",
    "                    elif ((feat_1[i] == 1 and feat_2[i] == 0) or (feat_1[i] == 0 and feat_2[i] == 1)):\n",
    "                        U = U+1\n",
    "                    else:\n",
    "                        continue\n",
    "            score = I / U\n",
    "            sim_dict[(L1,L2)] = score\n",
    "    return sim_dict\n"
   ]
  },
  {
   "cell_type": "code",
   "execution_count": 3,
   "metadata": {},
   "outputs": [],
   "source": [
    "langs = ['ara', 'ben', 'eng', 'fin', 'ind', 'kor', 'rus', 'swh', 'tel']\n",
    "\n",
    "syn_sim = get_similarity('syntax_wals', langs)\n",
    "phon_sim = get_similarity('phonology_wals', langs)"
   ]
  },
  {
   "cell_type": "code",
   "execution_count": 4,
   "metadata": {},
   "outputs": [
    {
     "name": "stderr",
     "output_type": "stream",
     "text": [
      "/var/folders/gf/cxg141kn1436d5k15rsj_z0h0000gn/T/ipykernel_29488/3150075726.py:11: SettingWithCopyWarning: \n",
      "A value is trying to be set on a copy of a slice from a DataFrame\n",
      "\n",
      "See the caveats in the documentation: https://pandas.pydata.org/pandas-docs/stable/user_guide/indexing.html#returning-a-view-versus-a-copy\n",
      "  wals_morph.fillna('000', inplace=True)\n"
     ]
    }
   ],
   "source": [
    "wals = pd.read_csv('language.csv')\n",
    "\n",
    "langs_morph = ['arb', 'ben', 'eng', 'fin', 'ind', 'kor', 'rus', 'swh', 'tel']\n",
    "wals_subset = wals.loc[wals['iso_code'].isin(langs_morph)]\n",
    "wals_subset.reset_index(inplace=True, drop=True)\n",
    "\n",
    "# 1st row of features is morphology\n",
    "# 2nd and 3rd row of features is nominal categories\n",
    "wals_morph = wals_subset.filter(regex='iso_code|^20A|^21A|^21B|^22A|^23A|^24A|^25A|^25B|^26A|^27A|^28A|^29A|\\\n",
    "                   ^30A|31A|^32A|^33A|^34A|^35A|^36A|^37A|^38A|^39A|^39B|^40A|^41A|^42A|\\\n",
    "                   ^43A|^44A|^45A|^46A|^47A|^48A|^49A|^50A|^51A|^52A|^53A|^54A|^55A|^56A|^57A')\n",
    "\n",
    "wals_morph.fillna('000', inplace=True)"
   ]
  },
  {
   "cell_type": "code",
   "execution_count": 5,
   "metadata": {},
   "outputs": [],
   "source": [
    "#############################\n",
    "##### FOR MORPHOLOGICAL #####\n",
    "#############################\n",
    "\n",
    "morph_sim= {}\n",
    "\n",
    "for L1 in langs_morph:\n",
    "    feat_1 = wals_morph.loc[wals_morph['iso_code']==L1].values.tolist()[0][1:]\n",
    "    for L2 in langs_morph[langs_morph.index(L1) : ]:\n",
    "        feat_2 = wals_morph.loc[wals_morph['iso_code']==L2].values.tolist()[0][1:]\n",
    "        assert len(feat_1) == len(feat_2)\n",
    "        I = 0\n",
    "        U = 0\n",
    "        for i in range(len(feat_1)):\n",
    "            if feat_1[i] !='000' or feat_2[i] !='000':\n",
    "                if feat_1[i] == feat_2[i]:\n",
    "                    I = I+1\n",
    "                    U = U+1\n",
    "                else:\n",
    "                    U = U+1\n",
    "        score = I / U\n",
    "        morph_sim[(L1,L2)] = score"
   ]
  },
  {
   "cell_type": "code",
   "execution_count": 6,
   "metadata": {},
   "outputs": [
    {
     "data": {
      "text/plain": [
       "{('ara', 'ara'): 1.0,\n",
       " ('ara', 'ben'): 0.2962962962962963,\n",
       " ('ara', 'eng'): 0.42105263157894735,\n",
       " ('ara', 'fin'): 0.43859649122807015,\n",
       " ('ara', 'ind'): 0.47058823529411764,\n",
       " ('ara', 'kor'): 0.2711864406779661,\n",
       " ('ara', 'rus'): 0.48148148148148145,\n",
       " ('ara', 'swh'): 0.5581395348837209,\n",
       " ('ara', 'tel'): 0.2682926829268293,\n",
       " ('ben', 'ben'): 1.0,\n",
       " ('ben', 'eng'): 0.2631578947368421,\n",
       " ('ben', 'fin'): 0.3684210526315789,\n",
       " ('ben', 'ind'): 0.2631578947368421,\n",
       " ('ben', 'kor'): 0.6470588235294118,\n",
       " ('ben', 'rus'): 0.35,\n",
       " ('ben', 'swh'): 0.25,\n",
       " ('ben', 'tel'): 0.46153846153846156,\n",
       " ('eng', 'eng'): 1.0,\n",
       " ('eng', 'fin'): 0.5952380952380952,\n",
       " ('eng', 'ind'): 0.5641025641025641,\n",
       " ('eng', 'kor'): 0.4523809523809524,\n",
       " ('eng', 'rus'): 0.7027027027027027,\n",
       " ('eng', 'swh'): 0.26666666666666666,\n",
       " ('eng', 'tel'): 0.3333333333333333,\n",
       " ('fin', 'fin'): 1.0,\n",
       " ('fin', 'ind'): 0.4878048780487805,\n",
       " ('fin', 'kor'): 0.5365853658536586,\n",
       " ('fin', 'rus'): 0.7297297297297297,\n",
       " ('fin', 'swh'): 0.26666666666666666,\n",
       " ('fin', 'tel'): 0.4666666666666667,\n",
       " ('ind', 'ind'): 1.0,\n",
       " ('ind', 'kor'): 0.3181818181818182,\n",
       " ('ind', 'rus'): 0.5,\n",
       " ('ind', 'swh'): 0.3684210526315789,\n",
       " ('ind', 'tel'): 0.21212121212121213,\n",
       " ('kor', 'kor'): 1.0,\n",
       " ('kor', 'rus'): 0.5238095238095238,\n",
       " ('kor', 'swh'): 0.11764705882352941,\n",
       " ('kor', 'tel'): 0.72,\n",
       " ('rus', 'rus'): 1.0,\n",
       " ('rus', 'swh'): 0.3111111111111111,\n",
       " ('rus', 'tel'): 0.3548387096774194,\n",
       " ('swh', 'swh'): 1.0,\n",
       " ('swh', 'tel'): 0.12903225806451613,\n",
       " ('tel', 'tel'): 1.0}"
      ]
     },
     "execution_count": 6,
     "metadata": {},
     "output_type": "execute_result"
    }
   ],
   "source": [
    "syn_sim"
   ]
  },
  {
   "cell_type": "code",
   "execution_count": 7,
   "metadata": {},
   "outputs": [
    {
     "data": {
      "text/plain": [
       "{('ara', 'ara'): 1.0,\n",
       " ('ara', 'ben'): 0.6153846153846154,\n",
       " ('ara', 'eng'): 0.6,\n",
       " ('ara', 'fin'): 0.6,\n",
       " ('ara', 'ind'): 0.6,\n",
       " ('ara', 'kor'): 0.4,\n",
       " ('ara', 'rus'): 0.6923076923076923,\n",
       " ('ara', 'swh'): 0.5,\n",
       " ('ara', 'tel'): 0.6153846153846154,\n",
       " ('ben', 'ben'): 1.0,\n",
       " ('ben', 'eng'): 0.8,\n",
       " ('ben', 'fin'): 0.8,\n",
       " ('ben', 'ind'): 0.8888888888888888,\n",
       " ('ben', 'kor'): 0.6666666666666666,\n",
       " ('ben', 'rus'): 0.8888888888888888,\n",
       " ('ben', 'swh'): 0.7,\n",
       " ('ben', 'tel'): 1.0,\n",
       " ('eng', 'eng'): 1.0,\n",
       " ('eng', 'fin'): 0.8333333333333334,\n",
       " ('eng', 'ind'): 0.8333333333333334,\n",
       " ('eng', 'kor'): 0.5833333333333334,\n",
       " ('eng', 'rus'): 0.8181818181818182,\n",
       " ('eng', 'swh'): 0.8333333333333334,\n",
       " ('eng', 'tel'): 0.8,\n",
       " ('fin', 'fin'): 1.0,\n",
       " ('fin', 'ind'): 0.8333333333333334,\n",
       " ('fin', 'kor'): 0.5833333333333334,\n",
       " ('fin', 'rus'): 0.8181818181818182,\n",
       " ('fin', 'swh'): 0.6923076923076923,\n",
       " ('fin', 'tel'): 0.8,\n",
       " ('ind', 'ind'): 1.0,\n",
       " ('ind', 'kor'): 0.5833333333333334,\n",
       " ('ind', 'rus'): 0.8181818181818182,\n",
       " ('ind', 'swh'): 0.8333333333333334,\n",
       " ('ind', 'tel'): 0.8888888888888888,\n",
       " ('kor', 'kor'): 1.0,\n",
       " ('kor', 'rus'): 0.5454545454545454,\n",
       " ('kor', 'swh'): 0.46153846153846156,\n",
       " ('kor', 'tel'): 0.6666666666666666,\n",
       " ('rus', 'rus'): 1.0,\n",
       " ('rus', 'swh'): 0.6666666666666666,\n",
       " ('rus', 'tel'): 0.8888888888888888,\n",
       " ('swh', 'swh'): 1.0,\n",
       " ('swh', 'tel'): 0.7,\n",
       " ('tel', 'tel'): 1.0}"
      ]
     },
     "execution_count": 7,
     "metadata": {},
     "output_type": "execute_result"
    }
   ],
   "source": [
    "phon_sim"
   ]
  },
  {
   "cell_type": "code",
   "execution_count": 8,
   "metadata": {},
   "outputs": [
    {
     "data": {
      "text/plain": [
       "{('arb', 'arb'): 1.0,\n",
       " ('arb', 'ben'): 0.1111111111111111,\n",
       " ('arb', 'eng'): 0.02564102564102564,\n",
       " ('arb', 'fin'): 0.07692307692307693,\n",
       " ('arb', 'ind'): 0.02564102564102564,\n",
       " ('arb', 'kor'): 0.05714285714285714,\n",
       " ('arb', 'rus'): 0.05263157894736842,\n",
       " ('arb', 'swh'): 0.02702702702702703,\n",
       " ('arb', 'tel'): 0.2,\n",
       " ('ben', 'ben'): 1.0,\n",
       " ('ben', 'eng'): 0.02564102564102564,\n",
       " ('ben', 'fin'): 0.05128205128205128,\n",
       " ('ben', 'ind'): 0.02564102564102564,\n",
       " ('ben', 'kor'): 0.08823529411764706,\n",
       " ('ben', 'rus'): 0.02631578947368421,\n",
       " ('ben', 'swh'): 0.02702702702702703,\n",
       " ('ben', 'tel'): 0.16666666666666666,\n",
       " ('eng', 'eng'): 1.0,\n",
       " ('eng', 'fin'): 0.5128205128205128,\n",
       " ('eng', 'ind'): 0.3333333333333333,\n",
       " ('eng', 'kor'): 0.3333333333333333,\n",
       " ('eng', 'rus'): 0.5384615384615384,\n",
       " ('eng', 'swh'): 0.4358974358974359,\n",
       " ('eng', 'tel'): 0.1282051282051282,\n",
       " ('fin', 'fin'): 1.0,\n",
       " ('fin', 'ind'): 0.3076923076923077,\n",
       " ('fin', 'kor'): 0.3333333333333333,\n",
       " ('fin', 'rus'): 0.5897435897435898,\n",
       " ('fin', 'swh'): 0.38461538461538464,\n",
       " ('fin', 'tel'): 0.20512820512820512,\n",
       " ('ind', 'ind'): 1.0,\n",
       " ('ind', 'kor'): 0.23076923076923078,\n",
       " ('ind', 'rus'): 0.23076923076923078,\n",
       " ('ind', 'swh'): 0.358974358974359,\n",
       " ('ind', 'tel'): 0.1282051282051282,\n",
       " ('kor', 'kor'): 1.0,\n",
       " ('kor', 'rus'): 0.47368421052631576,\n",
       " ('kor', 'swh'): 0.2631578947368421,\n",
       " ('kor', 'tel'): 0.17142857142857143,\n",
       " ('rus', 'rus'): 1.0,\n",
       " ('rus', 'swh'): 0.42105263157894735,\n",
       " ('rus', 'tel'): 0.10256410256410256,\n",
       " ('swh', 'swh'): 1.0,\n",
       " ('swh', 'tel'): 0.07894736842105263,\n",
       " ('tel', 'tel'): 1.0}"
      ]
     },
     "execution_count": 8,
     "metadata": {},
     "output_type": "execute_result"
    }
   ],
   "source": [
    "morph_sim"
   ]
  },
  {
   "cell_type": "code",
   "execution_count": null,
   "metadata": {},
   "outputs": [],
   "source": []
  }
 ],
 "metadata": {
  "kernelspec": {
   "display_name": "Python 3 (ipykernel)",
   "language": "python",
   "name": "python3"
  },
  "language_info": {
   "codemirror_mode": {
    "name": "ipython",
    "version": 3
   },
   "file_extension": ".py",
   "mimetype": "text/x-python",
   "name": "python",
   "nbconvert_exporter": "python",
   "pygments_lexer": "ipython3",
   "version": "3.11.4"
  },
  "orig_nbformat": 4
 },
 "nbformat": 4,
 "nbformat_minor": 2
}
